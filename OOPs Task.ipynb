{
 "cells": [
  {
   "cell_type": "markdown",
   "id": "309539e0-1737-4d85-9cfc-5bbda921ed08",
   "metadata": {},
   "source": [
    "Q1, Create a vehicle class with an init method having instance variables as name_of_vehicle, max_speed\n",
    "and average_of_vehicle."
   ]
  },
  {
   "cell_type": "code",
   "execution_count": 6,
   "id": "4ef6bab3-5c82-4645-95d1-5089722073a9",
   "metadata": {},
   "outputs": [],
   "source": [
    "class vehicle:\n",
    "    def __init__(self,name_of_vehicle, max_speed, average_of_vehicle):\n",
    "        self.name_of_vehicle = name_of_vehicle\n",
    "        self.max_speed = max_speed\n",
    "        self.average_of_vehicle = average_of_vehicle\n",
    "        "
   ]
  },
  {
   "cell_type": "markdown",
   "id": "1b5fa1ff-3eaa-48f7-98f5-d32fdaef5224",
   "metadata": {},
   "source": [
    "Q2. Create a child class car from the vehicle class created in Que 1, which will inherit the vehicle class.\n",
    "Create a method named seating_capacity which takes capacity as an argument and returns the name of\n",
    "the vehicle and its seating capacity."
   ]
  },
  {
   "cell_type": "code",
   "execution_count": 21,
   "id": "b608a959-1700-4b35-a18e-652efab44f1a",
   "metadata": {},
   "outputs": [],
   "source": [
    "class car(vehicle):\n",
    "    def seating_capacity(self,seating_capacity):\n",
    "        self.seating_capacity = seating_capacity\n",
    "        return self.name_of_vehicle,self.seating_capacity"
   ]
  },
  {
   "cell_type": "code",
   "execution_count": 22,
   "id": "170d219c-5faf-49cc-bcd4-c1fbc528de27",
   "metadata": {},
   "outputs": [
    {
     "data": {
      "text/plain": [
       "('toyota', 7)"
      ]
     },
     "execution_count": 22,
     "metadata": {},
     "output_type": "execute_result"
    }
   ],
   "source": [
    "a = car(\"toyota\" , 254 , 15)\n",
    "a.seating_capacity(7)"
   ]
  },
  {
   "cell_type": "markdown",
   "id": "df9e1ac5-891f-482b-9f1e-5907561b5340",
   "metadata": {},
   "source": [
    "Q3. What is multiple inheritance? Write a python code to demonstrate multiple inheritance.\n"
   ]
  },
  {
   "cell_type": "markdown",
   "id": "f292c9c8-0230-4a2a-9811-9040fb333161",
   "metadata": {},
   "source": [
    "Ans)- Multiple Inheritance :- It is a type of inheritance in which a child class inherit more than one parent class."
   ]
  },
  {
   "cell_type": "code",
   "execution_count": 45,
   "id": "00298c5b-4537-4532-832a-ddb81a29423c",
   "metadata": {},
   "outputs": [],
   "source": [
    "class test:\n",
    "    def x(self):\n",
    "        print('no of elements are 20')\n",
    "        \n",
    "class test1:\n",
    "    def y(self):\n",
    "        print('nothing impossible')\n",
    "        \n",
    "class test2(test,test1):\n",
    "    def z(self):\n",
    "        print('everything is important')\n",
    "    "
   ]
  },
  {
   "cell_type": "code",
   "execution_count": 46,
   "id": "190b16f7-ed38-4cb8-9ecb-0603af2b51bd",
   "metadata": {},
   "outputs": [],
   "source": [
    "a = test2()"
   ]
  },
  {
   "cell_type": "code",
   "execution_count": 47,
   "id": "1f28a42d-fd5e-4f97-ad71-5417ed65ce1d",
   "metadata": {},
   "outputs": [
    {
     "name": "stdout",
     "output_type": "stream",
     "text": [
      "no of elements are 20\n",
      "nothing impossible\n",
      "everything is important\n"
     ]
    }
   ],
   "source": [
    "a.x()\n",
    "a.y()\n",
    "a.z()"
   ]
  },
  {
   "cell_type": "markdown",
   "id": "bf0dcc98-e22c-49fa-8543-8bdc7ace6fcb",
   "metadata": {},
   "source": [
    "Q4. What are getter and setter in python? Create a class and create a getter and a setter method in this\n",
    "class."
   ]
  },
  {
   "cell_type": "markdown",
   "id": "9166d03e-a0e8-43a9-aace-bc302cf7ebe1",
   "metadata": {},
   "source": [
    "Ans)- Getter and setter are the property decorator."
   ]
  },
  {
   "cell_type": "code",
   "execution_count": 32,
   "id": "595a4df6-4873-4af9-89f7-a75c2c8f8445",
   "metadata": {},
   "outputs": [],
   "source": [
    "class car:\n",
    "    def __init__(self, model , price):\n",
    "        self.model = model\n",
    "        self.__price = price\n",
    "        \n",
    "    @property\n",
    "    def price_getter(self):\n",
    "        return self.__price\n",
    "    \n",
    "    @price_getter.setter\n",
    "    def price_setter(self, price):\n",
    "        if price < 1500000:\n",
    "            return self.__price\n",
    "        else :\n",
    "            self.__price = price\n",
    "        \n",
    "        "
   ]
  },
  {
   "cell_type": "code",
   "execution_count": 33,
   "id": "2da9df13-5f1f-4fa2-a7d8-87b164638ac1",
   "metadata": {},
   "outputs": [],
   "source": [
    "obj = car( \"innova\" , 1500000)"
   ]
  },
  {
   "cell_type": "code",
   "execution_count": 34,
   "id": "133d9292-7a02-405b-aba7-374969afe239",
   "metadata": {},
   "outputs": [
    {
     "data": {
      "text/plain": [
       "1500000"
      ]
     },
     "execution_count": 34,
     "metadata": {},
     "output_type": "execute_result"
    }
   ],
   "source": [
    "obj.price_getter"
   ]
  },
  {
   "cell_type": "code",
   "execution_count": 35,
   "id": "e52ee897-a9e7-4f3e-a1e7-63635aadc815",
   "metadata": {},
   "outputs": [
    {
     "data": {
      "text/plain": [
       "'innova'"
      ]
     },
     "execution_count": 35,
     "metadata": {},
     "output_type": "execute_result"
    }
   ],
   "source": [
    "obj.model"
   ]
  },
  {
   "cell_type": "code",
   "execution_count": 38,
   "id": "26644134-4f34-4171-8d7b-a0689dbfef1f",
   "metadata": {},
   "outputs": [],
   "source": [
    "obj.price_setter = 2000000"
   ]
  },
  {
   "cell_type": "code",
   "execution_count": 39,
   "id": "080a5c4e-7e35-47b7-be36-92737a83d85a",
   "metadata": {},
   "outputs": [
    {
     "data": {
      "text/plain": [
       "2000000"
      ]
     },
     "execution_count": 39,
     "metadata": {},
     "output_type": "execute_result"
    }
   ],
   "source": [
    "obj.price_getter"
   ]
  },
  {
   "cell_type": "code",
   "execution_count": null,
   "id": "ddeaed6f-6cd8-4dc5-ad31-df2fc2bc85d3",
   "metadata": {},
   "outputs": [],
   "source": []
  },
  {
   "cell_type": "markdown",
   "id": "fc3b439c-b1b2-4151-b912-77944f515fba",
   "metadata": {},
   "source": [
    "Q5.What is method overriding in python? Write a python code to demonstrate method overriding."
   ]
  },
  {
   "cell_type": "markdown",
   "id": "7505c207-6227-4086-a637-103a73fbb0a7",
   "metadata": {},
   "source": [
    "Ans)-Method overriding is an ability of any object-oriented programming language that allows a subclass or child class to provide a specific implementation of a method that is already provided by one of its super-classes or parent classes."
   ]
  },
  {
   "cell_type": "code",
   "execution_count": 50,
   "id": "cb9215e7-e7ff-4d70-9715-b35bdf28f51e",
   "metadata": {},
   "outputs": [],
   "source": [
    "class vehicle:\n",
    "    def show(self):\n",
    "        print(\"vehicle can have more than 4 wheels\")\n",
    "        \n",
    "class car(vehicle):\n",
    "    def show(self):\n",
    "        print(\"car has 4 wheels\")"
   ]
  },
  {
   "cell_type": "code",
   "execution_count": 51,
   "id": "cd3536df-d8dc-412c-bcb3-374a741b9213",
   "metadata": {},
   "outputs": [],
   "source": [
    "over = car()"
   ]
  },
  {
   "cell_type": "code",
   "execution_count": 53,
   "id": "1c78c200-2904-4d54-85df-a1fb6cc1ccad",
   "metadata": {},
   "outputs": [
    {
     "name": "stdout",
     "output_type": "stream",
     "text": [
      "car has 4 wheels\n"
     ]
    }
   ],
   "source": [
    "over.show()  # overriding done here"
   ]
  },
  {
   "cell_type": "code",
   "execution_count": null,
   "id": "19055001-623f-4e20-8156-8fe4dbd1adaf",
   "metadata": {},
   "outputs": [],
   "source": []
  }
 ],
 "metadata": {
  "kernelspec": {
   "display_name": "Python 3 (ipykernel)",
   "language": "python",
   "name": "python3"
  },
  "language_info": {
   "codemirror_mode": {
    "name": "ipython",
    "version": 3
   },
   "file_extension": ".py",
   "mimetype": "text/x-python",
   "name": "python",
   "nbconvert_exporter": "python",
   "pygments_lexer": "ipython3",
   "version": "3.10.8"
  }
 },
 "nbformat": 4,
 "nbformat_minor": 5
}
