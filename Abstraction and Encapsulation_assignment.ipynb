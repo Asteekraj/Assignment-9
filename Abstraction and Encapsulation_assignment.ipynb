{
 "cells": [
  {
   "cell_type": "markdown",
   "id": "bef2084c-9364-4abd-808d-3135303cdc6e",
   "metadata": {},
   "source": [
    "Q1. What is Abstraction in OOps? Explain with an example.\n"
   ]
  },
  {
   "cell_type": "markdown",
   "id": "98483a12-b792-4c9d-acb7-00b259078ecc",
   "metadata": {},
   "source": [
    "Ans)- Abstraction is basically a blueprint of any program."
   ]
  },
  {
   "cell_type": "code",
   "execution_count": 38,
   "id": "b751610c-ce9b-4438-ab32-885a50a2adec",
   "metadata": {},
   "outputs": [],
   "source": [
    "import abc\n",
    "class car :\n",
    "    def basic(self):\n",
    "        print(\"Almost every car has 4 wheels\")\n",
    "    \n",
    "    @abc.abstractmethod\n",
    "    def speed(self):\n",
    "        pass\n",
    "    \n",
    "    @abc.abstractmethod\n",
    "    def rpm(self):\n",
    "        pass\n",
    "        \n",
    "        "
   ]
  },
  {
   "cell_type": "code",
   "execution_count": 39,
   "id": "03296310-d108-437c-ab1c-90ca116a58bd",
   "metadata": {},
   "outputs": [],
   "source": [
    "class maruti(car):\n",
    "    def speed(self):\n",
    "        print( \"speed is 190km/h\")\n",
    "    def rpm(self):\n",
    "        print( \"rpm 465\")\n",
    "    \n",
    "class toyota(car):\n",
    "    def speed(self):\n",
    "        print( \"speed is 590km/h\")\n",
    "    def rpm(self):\n",
    "        print( \"rpm 4685\")"
   ]
  },
  {
   "cell_type": "code",
   "execution_count": 40,
   "id": "38875156-b157-4e76-8d4e-5af67cc796aa",
   "metadata": {},
   "outputs": [
    {
     "name": "stdout",
     "output_type": "stream",
     "text": [
      "Almost every car has 4 wheels\n",
      "speed is 190km/h\n",
      "rpm 465\n",
      "  \n",
      "speed is 590km/h\n",
      "rpm 4685\n"
     ]
    }
   ],
   "source": [
    "obj1 = maruti()\n",
    "obj1.basic()\n",
    "obj1.speed()\n",
    "obj1.rpm()\n",
    "print(\"  \")\n",
    "obj2 = toyota()\n",
    "obj2.speed()\n",
    "obj2.rpm()"
   ]
  },
  {
   "cell_type": "code",
   "execution_count": null,
   "id": "af61f463-7c63-468f-aedc-159bf4ce5f3b",
   "metadata": {},
   "outputs": [],
   "source": [
    "Q2. Differentiate between Abstraction and Encapsulation. Explain with an example."
   ]
  },
  {
   "cell_type": "markdown",
   "id": "6cb2e330-db5f-4e82-9f5e-53faf275f9a3",
   "metadata": {},
   "source": [
    "Ans)- Abstraction is just a stucture or blueprint of any program while in encapsulation we hide the class variable from the user. They can use those but can't access those."
   ]
  },
  {
   "cell_type": "code",
   "execution_count": 41,
   "id": "a72100a6-a438-4ec3-83d2-37abf15e369b",
   "metadata": {},
   "outputs": [],
   "source": [
    "# example of abstraction\n",
    "import abc\n",
    "class car :\n",
    "    def basic(self):\n",
    "        print(\"Almost every car has 4 wheels\")\n",
    "    \n",
    "    @abc.abstractmethod\n",
    "    def speed(self):\n",
    "        pass\n",
    "    \n",
    "    @abc.abstractmethod\n",
    "    def rpm(self):\n",
    "        pass"
   ]
  },
  {
   "cell_type": "code",
   "execution_count": 22,
   "id": "438f33ce-f1c5-4aee-946f-9c2a05272823",
   "metadata": {},
   "outputs": [],
   "source": [
    "# example of encapsulation \n",
    "class car :\n",
    "    def __init__(self, year, make, model, speed):\n",
    "        self.__year = year\n",
    "        self.__make = make\n",
    "        self.__model = model\n",
    "        self.__speed = 100\n",
    "        \n",
    "    def set_speed (self,speed):\n",
    "        self.__speed = speed\n",
    "        \n",
    "    def get_speed (self):\n",
    "            return self.__speed \n",
    "            "
   ]
  },
  {
   "cell_type": "code",
   "execution_count": 23,
   "id": "97f7b456-9457-4193-b95b-f7e28636703a",
   "metadata": {},
   "outputs": [],
   "source": [
    "s = car(1532,\"toyota\",\"innova\",12)\n"
   ]
  },
  {
   "cell_type": "code",
   "execution_count": 24,
   "id": "2079a3d8-c0a4-4b16-b0bf-81c1d44eec05",
   "metadata": {},
   "outputs": [],
   "source": [
    "s.set_speed(1564)"
   ]
  },
  {
   "cell_type": "code",
   "execution_count": 25,
   "id": "006da3f1-80e2-416a-8344-5cf9a6418b57",
   "metadata": {},
   "outputs": [
    {
     "data": {
      "text/plain": [
       "1564"
      ]
     },
     "execution_count": 25,
     "metadata": {},
     "output_type": "execute_result"
    }
   ],
   "source": [
    "s.get_speed()"
   ]
  },
  {
   "cell_type": "code",
   "execution_count": null,
   "id": "8bc50d4d-401d-4a37-a194-cb2ec34ee761",
   "metadata": {},
   "outputs": [],
   "source": []
  },
  {
   "cell_type": "markdown",
   "id": "d74cd5da-1ad3-4e4f-a100-3b2adb6570e8",
   "metadata": {},
   "source": [
    "Q3. What is abc module in python? Why is it used?"
   ]
  },
  {
   "cell_type": "markdown",
   "id": "1c8dd573-ecf6-4278-960c-01321b838150",
   "metadata": {},
   "source": [
    "Ans)- abc is the module in which there are multiple methods, abstraction method is one of those methods which abc module includes itself, so to use the abstraction method for making the abstraction class, abc module is used."
   ]
  },
  {
   "cell_type": "markdown",
   "id": "39b423b2-95ff-4e48-99af-d2906227ee13",
   "metadata": {},
   "source": [
    "Q4. How can we achieve data abstraction?"
   ]
  },
  {
   "cell_type": "markdown",
   "id": "fbfb372b-07d2-4bfd-987d-32f1e2fc1c50",
   "metadata": {},
   "source": [
    "Ans)- Data Abstraction in Python can be achieved through creating abstract classes and inheriting them later"
   ]
  },
  {
   "cell_type": "markdown",
   "id": "51ec2020-1e3d-4e20-bade-fc3c8936f141",
   "metadata": {},
   "source": [
    "Q5. Can we create an instance of an abstract class? Explain your answer."
   ]
  },
  {
   "cell_type": "markdown",
   "id": "3f7f15ba-ec1a-48d8-b26b-74ce02f04faf",
   "metadata": {},
   "source": [
    "Ans)- We can't create the instance of an abstract class because abstraction methods have no body, it is only a structure of a program."
   ]
  },
  {
   "cell_type": "code",
   "execution_count": null,
   "id": "b559f840-ddb3-4b61-a9c4-d8eb0f6be71b",
   "metadata": {},
   "outputs": [],
   "source": []
  }
 ],
 "metadata": {
  "kernelspec": {
   "display_name": "Python 3 (ipykernel)",
   "language": "python",
   "name": "python3"
  },
  "language_info": {
   "codemirror_mode": {
    "name": "ipython",
    "version": 3
   },
   "file_extension": ".py",
   "mimetype": "text/x-python",
   "name": "python",
   "nbconvert_exporter": "python",
   "pygments_lexer": "ipython3",
   "version": "3.10.8"
  }
 },
 "nbformat": 4,
 "nbformat_minor": 5
}
